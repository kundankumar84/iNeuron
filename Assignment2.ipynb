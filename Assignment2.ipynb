{
 "cells": [
  {
   "cell_type": "code",
   "execution_count": 1,
   "metadata": {},
   "outputs": [
    {
     "name": "stdout",
     "output_type": "stream",
     "text": [
      "35\n",
      "35\n"
     ]
    }
   ],
   "source": [
    "def do_sum(x,y):\n",
    "    return x+y\n",
    "def myreduce(func,list):\n",
    "    sum = list[0]\n",
    "    for i in list[1:]:\n",
    "        sum = func(sum,i)\n",
    "    return sum\n",
    "list = [5,6,7,8,9]\n",
    "usingmethod1 = myreduce(lambda x,y:x+y,list)\n",
    "usingmethod2 = myreduce(do_sum, list)\n",
    "print(usingmethod1)\n",
    "print(usingmethod2)"
   ]
  },
  {
   "cell_type": "code",
   "execution_count": 3,
   "metadata": {},
   "outputs": [
    {
     "name": "stdout",
     "output_type": "stream",
     "text": [
      "[2, 4, 6, 8]\n",
      "[2, 4, 6, 8]\n"
     ]
    }
   ],
   "source": [
    "def find_even(x):\n",
    "    if x%2==0 :\n",
    "        return True\n",
    "    else:\n",
    "        return False\n",
    "def myfilter(func, list):\n",
    "    even = []\n",
    "    for i in list:\n",
    "        if func(i):\n",
    "            even.append(i)\n",
    "    return even\n",
    "list = [1,2,3,4,5,6,7,8]\n",
    "usingmethod1 = myfilter(lambda x:x%2==0,list)\n",
    "usingmethod2 = myfilter(find_even,list)\n",
    "print(usingmethod1)\n",
    "print(usingmethod2)"
   ]
  },
  {
   "cell_type": "code",
   "execution_count": 8,
   "metadata": {},
   "outputs": [
    {
     "name": "stdout",
     "output_type": "stream",
     "text": [
      "['A', 'C', 'A', 'D', 'G', 'I', 'L', 'D']\n"
     ]
    }
   ],
   "source": [
    "string = 'ACADGILD'\n",
    "list = [x for x in string]\n",
    "print(list)"
   ]
  },
  {
   "cell_type": "code",
   "execution_count": 15,
   "metadata": {},
   "outputs": [
    {
     "name": "stdout",
     "output_type": "stream",
     "text": [
      "['x', 'xx', 'xxx', 'xxxx', 'y', 'yy', 'yyy', 'yyyy', 'z', 'zz', 'zzz', 'zzzz']\n"
     ]
    }
   ],
   "source": [
    "mylist = ['x','y','z']\n",
    "list = [val*i for val in mylist for i in range(1,5)]\n",
    "print(list)"
   ]
  },
  {
   "cell_type": "code",
   "execution_count": 18,
   "metadata": {},
   "outputs": [
    {
     "name": "stdout",
     "output_type": "stream",
     "text": [
      "['x', 'y', 'z', 'xx', 'yy', 'zz', 'xxx', 'yyy', 'zzz', 'xxxx', 'yyyy', 'zzzz']\n"
     ]
    }
   ],
   "source": [
    "mylist = ['x','y','z']\n",
    "list = [y*i  for i in range(1,5) for y in mylist]\n",
    "print(list)"
   ]
  },
  {
   "cell_type": "code",
   "execution_count": 22,
   "metadata": {},
   "outputs": [
    {
     "name": "stdout",
     "output_type": "stream",
     "text": [
      "[[2], [3], [4], [3], [4], [5], [4], [5], [6]]\n"
     ]
    }
   ],
   "source": [
    "mylist = [[i+y]  for i in range(2,5)  for y in range(0,3)]\n",
    "print(mylist)"
   ]
  },
  {
   "cell_type": "code",
   "execution_count": 27,
   "metadata": {},
   "outputs": [
    {
     "name": "stdout",
     "output_type": "stream",
     "text": [
      "[[2, 3, 4, 5], [3, 4, 5, 6], [4, 5, 6, 7], [5, 6, 7, 8]]\n"
     ]
    }
   ],
   "source": [
    "mylist = [[i+y for i in range(2,6)] for y in range(0,4)]\n",
    "print(mylist)"
   ]
  },
  {
   "cell_type": "code",
   "execution_count": 28,
   "metadata": {},
   "outputs": [
    {
     "name": "stdout",
     "output_type": "stream",
     "text": [
      "[(1, 1), (1, 2), (1, 3), (2, 1), (2, 2), (2, 3), (3, 1), (3, 2), (3, 3)]\n"
     ]
    }
   ],
   "source": [
    "mylist = [(i,j) for i in range(1,4) for j in range(1,4)]\n",
    "print(mylist)"
   ]
  },
  {
   "cell_type": "code",
   "execution_count": 29,
   "metadata": {},
   "outputs": [
    {
     "name": "stdout",
     "output_type": "stream",
     "text": [
      "kundan\n"
     ]
    }
   ],
   "source": [
    "def longestWord(list):\n",
    "    string = ''\n",
    "    size = -1\n",
    "    for s in list:\n",
    "        if size < len(s):\n",
    "            size = len(s)\n",
    "            string = s\n",
    "    return string\n",
    "list = ['kundan', 'mohan', 'raj']\n",
    "print(longestWord(list))"
   ]
  },
  {
   "cell_type": "code",
   "execution_count": 39,
   "metadata": {},
   "outputs": [
    {
     "name": "stdout",
     "output_type": "stream",
     "text": [
      "6.0\n"
     ]
    }
   ],
   "source": [
    "class Sup:\n",
    "    def __init__(self,a,b,c):\n",
    "        self.a = a\n",
    "        self.b = b\n",
    "        self.c = c\n",
    "        \n",
    "class Sub(Sup):\n",
    "    def __init__(self, *args):\n",
    "        super(Sub, self).__init__(*args)\n",
    "        \n",
    "    def calc(self):\n",
    "        s = (self.a+self.b+self.c)/2;\n",
    "        area = s * (s- self.a)\n",
    "        area = area * (s- self.b)\n",
    "        area = area * (s - self.c)\n",
    "        return area**0.5\n",
    "    \n",
    "s = Sub(3,4,5)\n",
    "print(s.calc())"
   ]
  },
  {
   "cell_type": "code",
   "execution_count": 54,
   "metadata": {},
   "outputs": [
    {
     "name": "stdout",
     "output_type": "stream",
     "text": [
      "['kun', 'kund', 'kunda', 'kundan']\n"
     ]
    }
   ],
   "source": [
    "def filter_long_words(lst, size):\n",
    "    mylst = []\n",
    "    for s in lst:\n",
    "        if(len(s) > size):\n",
    "            mylst.append(s)\n",
    "    return mylst\n",
    "lst= ['k','ku','kun','kund','kunda','kundan']\n",
    "print(filter_long_words(lst,2))"
   ]
  },
  {
   "cell_type": "code",
   "execution_count": 55,
   "metadata": {},
   "outputs": [
    {
     "name": "stdout",
     "output_type": "stream",
     "text": [
      "[2, 3, 4]\n"
     ]
    }
   ],
   "source": [
    "def wordlen(lst):\n",
    "    length = []\n",
    "    for l in lst:\n",
    "        length.append(len(l))\n",
    "    return length    \n",
    "    \n",
    "lst = ['ab','cde','erty']\n",
    "print(wordlen(lst))"
   ]
  },
  {
   "cell_type": "code",
   "execution_count": 56,
   "metadata": {},
   "outputs": [
    {
     "name": "stdout",
     "output_type": "stream",
     "text": [
      "False\n",
      "True\n",
      "False\n",
      "False\n"
     ]
    }
   ],
   "source": [
    "def vowel(a):\n",
    "    lst = ['a','e','i','o','u']\n",
    "    if a in lst:\n",
    "        return True\n",
    "    else:\n",
    "        return False\n",
    "    \n",
    "print(vowel('k'))\n",
    "print(vowel('u'))\n",
    "print(vowel('n'))\n",
    "print(vowel('d'))\n"
   ]
  },
  {
   "cell_type": "code",
   "execution_count": null,
   "metadata": {},
   "outputs": [],
   "source": []
  }
 ],
 "metadata": {
  "kernelspec": {
   "display_name": "Python 3",
   "language": "python",
   "name": "python3"
  },
  "language_info": {
   "codemirror_mode": {
    "name": "ipython",
    "version": 3
   },
   "file_extension": ".py",
   "mimetype": "text/x-python",
   "name": "python",
   "nbconvert_exporter": "python",
   "pygments_lexer": "ipython3",
   "version": "3.7.3"
  }
 },
 "nbformat": 4,
 "nbformat_minor": 2
}
